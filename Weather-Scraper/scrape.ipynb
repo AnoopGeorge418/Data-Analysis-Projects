{
 "cells": [
  {
   "cell_type": "code",
   "execution_count": 27,
   "metadata": {},
   "outputs": [],
   "source": [
    "import csv\n",
    "import requests\n",
    "import validators\n",
    "import pandas as pd\n",
    "from bs4 import BeautifulSoup"
   ]
  },
  {
   "cell_type": "code",
   "execution_count": 28,
   "metadata": {},
   "outputs": [],
   "source": [
    "def fetch_url():\n",
    "    \"\"\"This function allows user to input \"url\" of the website they want to scrape data from and also validates the url\"\"\"\n",
    "    while True:\n",
    "        url = 'https://weather.com/en-IN/weather/today/l/bca4746f5acd4714e93e014760a23a3cb46eaa60d611536f48420df6f57c563d'\n",
    "        if validators.url(url):\n",
    "            print(f'Given Url: {url} is valid.')\n",
    "            return url\n",
    "        else:\n",
    "            print(f'Error: Given Url: {url} is not valid.')"
   ]
  },
  {
   "cell_type": "code",
   "execution_count": 29,
   "metadata": {},
   "outputs": [],
   "source": [
    "def fetch_contents():\n",
    "    \"\"\"This function sends a request to the website with the help of URL and downloads it.\"\"\"\n",
    "    url = fetch_url()\n",
    "    if url:\n",
    "        response = requests.get(url)\n",
    "        if response.status_code == 200:\n",
    "            page_contents = response.text\n",
    "            with open('html_contents.html', 'w', encoding='utf8') as f:\n",
    "                f.write(page_contents)\n",
    "            print('Content fetched successfully and saved in \"html_contents.html\" file.')\n",
    "            return page_contents\n",
    "        else:\n",
    "            print(f'Failed.. status code: {response.status_code}')\n",
    "            return None\n",
    "    return None"
   ]
  },
  {
   "cell_type": "code",
   "execution_count": 30,
   "metadata": {},
   "outputs": [],
   "source": [
    "def parse_contents():\n",
    "    \"\"\"This function helps to parse the HTML contents.\"\"\"\n",
    "    contents = fetch_contents()\n",
    "    if contents:\n",
    "        soup = BeautifulSoup(contents, 'html.parser')\n",
    "        print('Contents parsed successfully')\n",
    "        return soup\n",
    "    return None"
   ]
  },
  {
   "cell_type": "code",
   "execution_count": 31,
   "metadata": {},
   "outputs": [],
   "source": [
    "def weather_info():\n",
    "    \"\"\"This function helps to fetch info from the URL.\"\"\"\n",
    "    parse = parse_contents()\n",
    "    if parse:\n",
    "        extract_city = lambda parse: parse.find_all('h1', class_='CurrentConditions--location--1YWj_')[0].text\n",
    "        extract_degree = lambda parse: parse.find_all('span', class_='CurrentConditions--tempValue--MHmYY')[0].text\n",
    "        extract_weather_condition = lambda parse: parse.find_all('div', class_='CurrentConditions--phraseValue--mZC_p')[0].text\n",
    "        extract_degree_day_night = lambda parse: parse.find_all('div', class_='CurrentConditions--tempHiLoValue--3T1DG')[0].text\n",
    "\n",
    "        weather_data = {\n",
    "            'City and State Name': extract_city(parse),\n",
    "            'Degree': extract_degree(parse),\n",
    "            'Weather Condition': extract_weather_condition(parse),\n",
    "            'Degree in Day and Night': extract_degree_day_night(parse)\n",
    "        }\n",
    "\n",
    "        print('----------------------------------------------------------------------')\n",
    "        for key, value in weather_data.items():\n",
    "            print(f'{key}: {value}')\n",
    "        \n",
    "        return weather_data\n",
    "    return None"
   ]
  },
  {
   "cell_type": "code",
   "execution_count": 38,
   "metadata": {},
   "outputs": [],
   "source": [
    "def to_csv(data):\n",
    "    \"\"\"This function helps to convert the data scraped to a CSV file.\"\"\"\n",
    "    if data:\n",
    "        with open('data.csv', 'w', newline='', encoding='utf-8') as file:\n",
    "            writer = csv.writer(file)\n",
    "            writer.writerow(data.keys())\n",
    "            writer.writerow(data.values())\n",
    "        print('Data saved to \"data.csv\" file.')"
   ]
  },
  {
   "cell_type": "code",
   "execution_count": 39,
   "metadata": {},
   "outputs": [
    {
     "name": "stdout",
     "output_type": "stream",
     "text": [
      "Welcome to Current Weather checker.\n",
      "---------------------------------------------------------------------------------------------------------------------------------\n",
      "Given Url: https://weather.com/en-IN/weather/today/l/bca4746f5acd4714e93e014760a23a3cb46eaa60d611536f48420df6f57c563d is valid.\n",
      "Content fetched successfully and saved in \"html_contents.html\" file.\n",
      "Contents parsed successfully\n",
      "----------------------------------------------------------------------\n",
      "City and State Name: Mangaluru, Karnataka\n",
      "Degree: 26°\n",
      "Weather Condition: Light Rain\n",
      "Degree in Day and Night: Day 27° • Night 25°\n",
      "Data saved to \"data.csv\" file.\n"
     ]
    }
   ],
   "source": [
    "def main():\n",
    "    \"\"\"This function calls all other function and runs the program\"\"\"\n",
    "    print('Welcome to Current Weather checker.')\n",
    "    print('---------------------------------------------------------------------------------------------------------------------------------')\n",
    "    weather_data = weather_info()\n",
    "    to_csv(weather_data)\n",
    "\n",
    "if __name__ == '__main__':\n",
    "    main()"
   ]
  },
  {
   "cell_type": "code",
   "execution_count": 41,
   "metadata": {},
   "outputs": [
    {
     "data": {
      "text/html": [
       "<div>\n",
       "<style scoped>\n",
       "    .dataframe tbody tr th:only-of-type {\n",
       "        vertical-align: middle;\n",
       "    }\n",
       "\n",
       "    .dataframe tbody tr th {\n",
       "        vertical-align: top;\n",
       "    }\n",
       "\n",
       "    .dataframe thead th {\n",
       "        text-align: right;\n",
       "    }\n",
       "</style>\n",
       "<table border=\"1\" class=\"dataframe\">\n",
       "  <thead>\n",
       "    <tr style=\"text-align: right;\">\n",
       "      <th></th>\n",
       "      <th>City and State Name</th>\n",
       "      <th>Degree</th>\n",
       "      <th>Weather Condition</th>\n",
       "      <th>Degree in Day and Night</th>\n",
       "    </tr>\n",
       "  </thead>\n",
       "  <tbody>\n",
       "    <tr>\n",
       "      <th>0</th>\n",
       "      <td>Mangaluru, Karnataka</td>\n",
       "      <td>26°</td>\n",
       "      <td>Light Rain</td>\n",
       "      <td>Day 27° • Night 25°</td>\n",
       "    </tr>\n",
       "  </tbody>\n",
       "</table>\n",
       "</div>"
      ],
      "text/plain": [
       "    City and State Name Degree Weather Condition Degree in Day and Night\n",
       "0  Mangaluru, Karnataka    26°        Light Rain     Day 27° • Night 25°"
      ]
     },
     "execution_count": 41,
     "metadata": {},
     "output_type": "execute_result"
    }
   ],
   "source": [
    "pd.read_csv('./data.csv')"
   ]
  },
  {
   "cell_type": "markdown",
   "metadata": {},
   "source": [
    "# **Run main() to run entire program.**"
   ]
  }
 ],
 "metadata": {
  "kernelspec": {
   "display_name": "Python 3",
   "language": "python",
   "name": "python3"
  },
  "language_info": {
   "codemirror_mode": {
    "name": "ipython",
    "version": 3
   },
   "file_extension": ".py",
   "mimetype": "text/x-python",
   "name": "python",
   "nbconvert_exporter": "python",
   "pygments_lexer": "ipython3",
   "version": "3.12.4"
  }
 },
 "nbformat": 4,
 "nbformat_minor": 2
}
