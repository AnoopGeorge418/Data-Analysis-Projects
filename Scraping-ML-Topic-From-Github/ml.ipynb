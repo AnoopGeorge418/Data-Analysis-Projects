{
 "cells": [
  {
   "cell_type": "markdown",
   "metadata": {},
   "source": [
    "# Downloading html content from webpage using request library"
   ]
  },
  {
   "cell_type": "code",
   "execution_count": 102,
   "metadata": {},
   "outputs": [],
   "source": [
    "import requests"
   ]
  },
  {
   "cell_type": "code",
   "execution_count": 103,
   "metadata": {},
   "outputs": [
    {
     "data": {
      "text/plain": [
       "'https://github.com/topics/machine-learning'"
      ]
     },
     "execution_count": 103,
     "metadata": {},
     "output_type": "execute_result"
    }
   ],
   "source": [
    "url = 'https://github.com/topics/machine-learning'\n",
    "url"
   ]
  },
  {
   "cell_type": "code",
   "execution_count": 104,
   "metadata": {},
   "outputs": [
    {
     "data": {
      "text/plain": [
       "200"
      ]
     },
     "execution_count": 104,
     "metadata": {},
     "output_type": "execute_result"
    }
   ],
   "source": [
    "response = requests.get(url)\n",
    "response.status_code"
   ]
  },
  {
   "cell_type": "code",
   "execution_count": 105,
   "metadata": {},
   "outputs": [],
   "source": [
    "contents = response.text \n",
    "with open('ml.html', 'w', encoding='utf-8') as file:\n",
    "    file.write(contents)"
   ]
  },
  {
   "cell_type": "markdown",
   "metadata": {},
   "source": [
    "# Fetching required information from html content using BeautifulSoup\n",
    "- Repo User name\n",
    "- Repo Name\n",
    "- Repo Description\n",
    "- Repo Url\n",
    "- Repo Stars\n",
    "- Repo image"
   ]
  },
  {
   "cell_type": "code",
   "execution_count": 106,
   "metadata": {},
   "outputs": [],
   "source": [
    "from bs4 import BeautifulStoneSoup"
   ]
  },
  {
   "cell_type": "code",
   "execution_count": 107,
   "metadata": {},
   "outputs": [],
   "source": [
    "with open('./ml.html', 'r', encoding='utf-8') as file:\n",
    "    html_content = file.read()"
   ]
  },
  {
   "cell_type": "code",
   "execution_count": 110,
   "metadata": {},
   "outputs": [],
   "source": [
    "soup = BeautifulSoup(html_content, 'html.parser')"
   ]
  },
  {
   "cell_type": "markdown",
   "metadata": {},
   "source": [
    "- fetching username of repos"
   ]
  },
  {
   "cell_type": "code",
   "execution_count": 126,
   "metadata": {},
   "outputs": [],
   "source": [
    "h3_tag_user_name = soup.find_all('h3', class_ = 'f3 color-fg-muted text-normal lh-condensed')"
   ]
  },
  {
   "cell_type": "code",
   "execution_count": 137,
   "metadata": {},
   "outputs": [
    {
     "data": {
      "text/plain": [
       "['tensorflow',\n",
       " 'huggingface',\n",
       " 'pytorch',\n",
       " 'netdata',\n",
       " 'microsoft',\n",
       " 'Developer-Y',\n",
       " 'keras-team',\n",
       " 'tesseract-ocr',\n",
       " 'd2l-ai',\n",
       " 'scikit-learn',\n",
       " 'binhnguyennus',\n",
       " 'ageitgey',\n",
       " 'labmlai',\n",
       " 'deepfakes',\n",
       " 'ultralytics',\n",
       " 'iperov',\n",
       " 'JuliaLang',\n",
       " 'Avik-Jain',\n",
       " 'aymericdamien',\n",
       " 'LAION-AI']"
      ]
     },
     "execution_count": 137,
     "metadata": {},
     "output_type": "execute_result"
    }
   ],
   "source": [
    "usernames = []\n",
    "\n",
    "for tag in h3_tag_user_name:\n",
    "    username_tags = tag.find('a')\n",
    "    if username_tags:\n",
    "        usernames.append(username_tags.text.strip())\n",
    "\n",
    "usernames"
   ]
  },
  {
   "cell_type": "code",
   "execution_count": 143,
   "metadata": {},
   "outputs": [
    {
     "data": {
      "text/plain": [
       "20"
      ]
     },
     "execution_count": 143,
     "metadata": {},
     "output_type": "execute_result"
    }
   ],
   "source": [
    "len(usernames)"
   ]
  },
  {
   "cell_type": "markdown",
   "metadata": {},
   "source": [
    "- fetching repo name"
   ]
  },
  {
   "cell_type": "code",
   "execution_count": 138,
   "metadata": {},
   "outputs": [],
   "source": [
    "a_tag_repo_name = soup.find_all('a', class_ = 'Link text-bold wb-break-word')"
   ]
  },
  {
   "cell_type": "code",
   "execution_count": 142,
   "metadata": {},
   "outputs": [
    {
     "data": {
      "text/plain": [
       "['tensorflow',\n",
       " 'transformers',\n",
       " 'pytorch',\n",
       " 'netdata',\n",
       " 'ML-For-Beginners',\n",
       " 'cs-video-courses',\n",
       " 'keras',\n",
       " 'tesseract',\n",
       " 'd2l-zh',\n",
       " 'scikit-learn',\n",
       " 'awesome-scalability',\n",
       " 'face_recognition',\n",
       " 'annotated_deep_learning_paper_implementations',\n",
       " 'faceswap',\n",
       " 'yolov5',\n",
       " 'DeepFaceLab',\n",
       " 'julia',\n",
       " '100-Days-Of-ML-Code',\n",
       " 'TensorFlow-Examples',\n",
       " 'Open-Assistant']"
      ]
     },
     "execution_count": 142,
     "metadata": {},
     "output_type": "execute_result"
    }
   ],
   "source": [
    "repo_names = []\n",
    "\n",
    "for name in a_tag_repo_name:\n",
    "    repo_names.append(name.text.strip())\n",
    "    \n",
    "repo_names"
   ]
  },
  {
   "cell_type": "code",
   "execution_count": 144,
   "metadata": {},
   "outputs": [
    {
     "data": {
      "text/plain": [
       "20"
      ]
     },
     "execution_count": 144,
     "metadata": {},
     "output_type": "execute_result"
    }
   ],
   "source": [
    "len(repo_names)"
   ]
  },
  {
   "cell_type": "markdown",
   "metadata": {},
   "source": [
    "- fetching repo description"
   ]
  },
  {
   "cell_type": "code",
   "execution_count": 145,
   "metadata": {},
   "outputs": [],
   "source": [
    "p_tag_repo_desc = soup.find_all('p', class_ = 'color-fg-muted mb-0')"
   ]
  },
  {
   "cell_type": "code",
   "execution_count": 150,
   "metadata": {},
   "outputs": [
    {
     "data": {
      "text/plain": [
       "['An Open Source Machine Learning Framework for Everyone',\n",
       " '🤗 Transformers: State-of-the-art Machine Learning for Pytorch, TensorFlow, and JAX.',\n",
       " 'Tensors and Dynamic neural networks in Python with strong GPU acceleration',\n",
       " 'The open-source observability platform everyone needs!',\n",
       " '12 weeks, 26 lessons, 52 quizzes, classic Machine Learning for all',\n",
       " 'List of Computer Science courses with video lectures.',\n",
       " 'Deep Learning for humans',\n",
       " 'Tesseract Open Source OCR Engine (main repository)',\n",
       " '《动手学深度学习》：面向中文读者、能运行、可讨论。中英文版被70多个国家的500多所大学用于教学。',\n",
       " 'scikit-learn: machine learning in Python',\n",
       " 'The Patterns of Scalable, Reliable, and Performant Large-Scale Systems',\n",
       " \"The world's simplest facial recognition api for Python and the command line\",\n",
       " '🧑\\u200d🏫 60 Implementations/tutorials of deep learning papers with side-by-side notes 📝; including transformers (original, xl, switch, feedback, vit, ...), optimizers (adam, adabelief, sophia, ...), gans(cyclegan, stylegan2, ...), 🎮 reinforcement learning (ppo, dqn), capsnet, distillation, ... 🧠',\n",
       " 'Deepfakes Software For All',\n",
       " 'YOLOv5 🚀 in PyTorch > ONNX > CoreML > TFLite',\n",
       " 'DeepFaceLab is the leading software for creating deepfakes.',\n",
       " 'The Julia Programming Language',\n",
       " '100 Days of ML Coding',\n",
       " 'TensorFlow Tutorial and Examples for Beginners (support TF v1 & v2)',\n",
       " 'OpenAssistant is a chat-based assistant that understands tasks, can interact with third-party systems, and retrieve information dynamically to do so.']"
      ]
     },
     "execution_count": 150,
     "metadata": {},
     "output_type": "execute_result"
    }
   ],
   "source": [
    "repo_description = []\n",
    "\n",
    "for desc in p_tag_repo_desc:\n",
    "    repo_description.append(desc.text.strip())\n",
    "    \n",
    "repo_description"
   ]
  },
  {
   "cell_type": "code",
   "execution_count": 148,
   "metadata": {},
   "outputs": [
    {
     "data": {
      "text/plain": [
       "20"
      ]
     },
     "execution_count": 148,
     "metadata": {},
     "output_type": "execute_result"
    }
   ],
   "source": [
    "len(repo_description)"
   ]
  },
  {
   "cell_type": "markdown",
   "metadata": {},
   "source": [
    "- fetching repo url"
   ]
  },
  {
   "cell_type": "code",
   "execution_count": 149,
   "metadata": {},
   "outputs": [],
   "source": [
    "a_tag_repo_url = soup.find_all('a', class_ = 'Link text-bold wb-break-word')"
   ]
  },
  {
   "cell_type": "code",
   "execution_count": 200,
   "metadata": {},
   "outputs": [],
   "source": [
    "base_url = 'https://github.com'"
   ]
  },
  {
   "cell_type": "code",
   "execution_count": 201,
   "metadata": {},
   "outputs": [
    {
     "data": {
      "text/plain": [
       "['https://github.com/tensorflow/tensorflow',\n",
       " 'https://github.com/huggingface/transformers',\n",
       " 'https://github.com/pytorch/pytorch',\n",
       " 'https://github.com/netdata/netdata',\n",
       " 'https://github.com/microsoft/ML-For-Beginners',\n",
       " 'https://github.com/Developer-Y/cs-video-courses',\n",
       " 'https://github.com/keras-team/keras',\n",
       " 'https://github.com/tesseract-ocr/tesseract',\n",
       " 'https://github.com/d2l-ai/d2l-zh',\n",
       " 'https://github.com/scikit-learn/scikit-learn',\n",
       " 'https://github.com/binhnguyennus/awesome-scalability',\n",
       " 'https://github.com/ageitgey/face_recognition',\n",
       " 'https://github.com/labmlai/annotated_deep_learning_paper_implementations',\n",
       " 'https://github.com/deepfakes/faceswap',\n",
       " 'https://github.com/ultralytics/yolov5',\n",
       " 'https://github.com/iperov/DeepFaceLab',\n",
       " 'https://github.com/JuliaLang/julia',\n",
       " 'https://github.com/Avik-Jain/100-Days-Of-ML-Code',\n",
       " 'https://github.com/aymericdamien/TensorFlow-Examples',\n",
       " 'https://github.com/LAION-AI/Open-Assistant']"
      ]
     },
     "execution_count": 201,
     "metadata": {},
     "output_type": "execute_result"
    }
   ],
   "source": [
    "repo_urls = []\n",
    "\n",
    "for url in a_tag_repo_url:\n",
    "    repo_urls.append(base_url + url['href'])\n",
    "\n",
    "repo_urls"
   ]
  },
  {
   "cell_type": "markdown",
   "metadata": {},
   "source": [
    "- fetching repo stars"
   ]
  },
  {
   "cell_type": "code",
   "execution_count": 157,
   "metadata": {},
   "outputs": [],
   "source": [
    "span_tag_repo_star = soup.find_all('span', class_ = 'Counter js-social-count')"
   ]
  },
  {
   "cell_type": "code",
   "execution_count": 191,
   "metadata": {},
   "outputs": [
    {
     "data": {
      "text/plain": [
       "[184000,\n",
       " 129000,\n",
       " 80400,\n",
       " 69600,\n",
       " 68300,\n",
       " 66000,\n",
       " 61300,\n",
       " 59700,\n",
       " 59300,\n",
       " 58900,\n",
       " 56900,\n",
       " 52400,\n",
       " 51900,\n",
       " 49900,\n",
       " 48600,\n",
       " 46300,\n",
       " 45000,\n",
       " 44000,\n",
       " 43300,\n",
       " 36900]"
      ]
     },
     "execution_count": 191,
     "metadata": {},
     "output_type": "execute_result"
    }
   ],
   "source": [
    "repo_stars = []\n",
    "\n",
    "for star in span_tag_repo_star:\n",
    "    repo_stars.append(star.text)\n",
    "    \n",
    "def convert_stars(star):\n",
    "    if star[-1] == 'k':\n",
    "        return int(float(star[:-1]) * 1000)\n",
    "    elif star[-1] == 'M':\n",
    "        return int(float(star[:-1]) * 1000000)\n",
    "    return int(star)\n",
    "    \n",
    "converted_repo_stars = [convert_stars(star) for star in repo_stars]\n",
    "converted_repo_stars"
   ]
  },
  {
   "cell_type": "markdown",
   "metadata": {},
   "source": [
    "- fetching repo images"
   ]
  },
  {
   "cell_type": "code",
   "execution_count": 169,
   "metadata": {},
   "outputs": [],
   "source": [
    "img_tag_repo_image = soup.find_all('img', class_ = 'd-block width-full')"
   ]
  },
  {
   "cell_type": "code",
   "execution_count": 175,
   "metadata": {},
   "outputs": [
    {
     "data": {
      "text/plain": [
       "['https://repository-images.githubusercontent.com/155220641/a16c4880-a501-11ea-9e8f-646cf611702e',\n",
       " 'https://repository-images.githubusercontent.com/10744183/8d08ea53-6359-45fe-bc4d-067cfe1673a1',\n",
       " 'https://repository-images.githubusercontent.com/343965132/549b1a80-c897-11eb-9436-918072d2e0f8',\n",
       " 'https://repository-images.githubusercontent.com/115478820/109a8e00-283a-11ea-8891-ad7215b06a4c',\n",
       " 'https://repository-images.githubusercontent.com/290091948/ac5a4b00-3e4b-11eb-948f-8e1ff5bdcc63',\n",
       " 'https://repository-images.githubusercontent.com/264818686/c9bae91d-ad2d-491c-876f-b6948f1a7c66',\n",
       " 'https://repository-images.githubusercontent.com/1644196/ddfc1e00-6638-11e9-9b80-0fe7b9aedd72']"
      ]
     },
     "execution_count": 175,
     "metadata": {},
     "output_type": "execute_result"
    }
   ],
   "source": [
    "repo_images = []\n",
    "\n",
    "for img in img_tag_repo_image:\n",
    "    img_tag = img.get('src')\n",
    "    if img_tag:\n",
    "        repo_images.append(img_tag)\n",
    "    \n",
    "repo_images"
   ]
  },
  {
   "cell_type": "markdown",
   "metadata": {},
   "source": [
    "# Converting to csv"
   ]
  },
  {
   "cell_type": "code",
   "execution_count": 206,
   "metadata": {},
   "outputs": [],
   "source": [
    "import pandas as pd"
   ]
  },
  {
   "cell_type": "markdown",
   "metadata": {},
   "source": [
    "**checking length and reducing the length of all the other cause there is only 7 images but all the other has 20. it will give error while creating dataFrame. so we do this..**"
   ]
  },
  {
   "cell_type": "code",
   "execution_count": 248,
   "metadata": {},
   "outputs": [
    {
     "name": "stdout",
     "output_type": "stream",
     "text": [
      "Usernames length: 20\n",
      "Repo names length: 20\n",
      "Repo descriptions length: 20\n",
      "Repo URLs length: 20\n",
      "Repo stars length: 20\n",
      "Repo images length: 7\n"
     ]
    }
   ],
   "source": [
    "# Check lengths of each list\n",
    "print(f'Usernames length: {len(usernames)}')\n",
    "print(f'Repo names length: {len(repo_names)}')\n",
    "print(f'Repo descriptions length: {len(repo_description)}')\n",
    "print(f'Repo URLs length: {len(repo_urls)}')\n",
    "print(f'Repo stars length: {len(converted_repo_stars)}')\n",
    "print(f'Repo images length: {len(repo_images)}')"
   ]
  },
  {
   "cell_type": "code",
   "execution_count": 250,
   "metadata": {},
   "outputs": [
    {
     "data": {
      "text/plain": [
       "7"
      ]
     },
     "execution_count": 250,
     "metadata": {},
     "output_type": "execute_result"
    }
   ],
   "source": [
    "# Determine the minimum length among all lists\n",
    "min_length = min(len(usernames), len(repo_names), len(repo_description), len(repo_urls), len(converted_repo_stars), len(repo_images))\n",
    "min_length"
   ]
  },
  {
   "cell_type": "code",
   "execution_count": 251,
   "metadata": {},
   "outputs": [],
   "source": [
    "# Truncate all lists to the minimum length\n",
    "usernames = usernames[:min_length]\n",
    "repo_names = repo_names[:min_length]\n",
    "repo_description = repo_description[:min_length]\n",
    "repo_urls = repo_urls[:min_length]\n",
    "converted_repo_stars = converted_repo_stars[:min_length]\n",
    "repo_images = repo_images[:min_length]"
   ]
  },
  {
   "cell_type": "code",
   "execution_count": 252,
   "metadata": {},
   "outputs": [],
   "source": [
    "# creating a dictionary of repo details\n",
    "repo_info_dict = {'Repo Name': repo_names, \n",
    "                  'User Name': usernames, \n",
    "                  'Repo Description': repo_description, \n",
    "                  'Repo Url': repo_urls, \n",
    "                  'Repo Stars': converted_repo_stars, \n",
    "                  'Repo Profile': repo_images\n",
    "                }"
   ]
  },
  {
   "cell_type": "code",
   "execution_count": 253,
   "metadata": {},
   "outputs": [
    {
     "data": {
      "text/html": [
       "<div>\n",
       "<style scoped>\n",
       "    .dataframe tbody tr th:only-of-type {\n",
       "        vertical-align: middle;\n",
       "    }\n",
       "\n",
       "    .dataframe tbody tr th {\n",
       "        vertical-align: top;\n",
       "    }\n",
       "\n",
       "    .dataframe thead th {\n",
       "        text-align: right;\n",
       "    }\n",
       "</style>\n",
       "<table border=\"1\" class=\"dataframe\">\n",
       "  <thead>\n",
       "    <tr style=\"text-align: right;\">\n",
       "      <th></th>\n",
       "      <th>Repo Name</th>\n",
       "      <th>User Name</th>\n",
       "      <th>Repo Description</th>\n",
       "      <th>Repo Url</th>\n",
       "      <th>Repo Stars</th>\n",
       "      <th>Repo Profile</th>\n",
       "    </tr>\n",
       "  </thead>\n",
       "  <tbody>\n",
       "    <tr>\n",
       "      <th>0</th>\n",
       "      <td>tensorflow</td>\n",
       "      <td>tensorflow</td>\n",
       "      <td>An Open Source Machine Learning Framework for ...</td>\n",
       "      <td>https://github.com/tensorflow/tensorflow</td>\n",
       "      <td>184000</td>\n",
       "      <td>https://repository-images.githubusercontent.co...</td>\n",
       "    </tr>\n",
       "    <tr>\n",
       "      <th>1</th>\n",
       "      <td>transformers</td>\n",
       "      <td>huggingface</td>\n",
       "      <td>🤗 Transformers: State-of-the-art Machine Learn...</td>\n",
       "      <td>https://github.com/huggingface/transformers</td>\n",
       "      <td>129000</td>\n",
       "      <td>https://repository-images.githubusercontent.co...</td>\n",
       "    </tr>\n",
       "    <tr>\n",
       "      <th>2</th>\n",
       "      <td>pytorch</td>\n",
       "      <td>pytorch</td>\n",
       "      <td>Tensors and Dynamic neural networks in Python ...</td>\n",
       "      <td>https://github.com/pytorch/pytorch</td>\n",
       "      <td>80400</td>\n",
       "      <td>https://repository-images.githubusercontent.co...</td>\n",
       "    </tr>\n",
       "    <tr>\n",
       "      <th>3</th>\n",
       "      <td>netdata</td>\n",
       "      <td>netdata</td>\n",
       "      <td>The open-source observability platform everyon...</td>\n",
       "      <td>https://github.com/netdata/netdata</td>\n",
       "      <td>69600</td>\n",
       "      <td>https://repository-images.githubusercontent.co...</td>\n",
       "    </tr>\n",
       "    <tr>\n",
       "      <th>4</th>\n",
       "      <td>ML-For-Beginners</td>\n",
       "      <td>microsoft</td>\n",
       "      <td>12 weeks, 26 lessons, 52 quizzes, classic Mach...</td>\n",
       "      <td>https://github.com/microsoft/ML-For-Beginners</td>\n",
       "      <td>68300</td>\n",
       "      <td>https://repository-images.githubusercontent.co...</td>\n",
       "    </tr>\n",
       "    <tr>\n",
       "      <th>5</th>\n",
       "      <td>cs-video-courses</td>\n",
       "      <td>Developer-Y</td>\n",
       "      <td>List of Computer Science courses with video le...</td>\n",
       "      <td>https://github.com/Developer-Y/cs-video-courses</td>\n",
       "      <td>66000</td>\n",
       "      <td>https://repository-images.githubusercontent.co...</td>\n",
       "    </tr>\n",
       "    <tr>\n",
       "      <th>6</th>\n",
       "      <td>keras</td>\n",
       "      <td>keras-team</td>\n",
       "      <td>Deep Learning for humans</td>\n",
       "      <td>https://github.com/keras-team/keras</td>\n",
       "      <td>61300</td>\n",
       "      <td>https://repository-images.githubusercontent.co...</td>\n",
       "    </tr>\n",
       "  </tbody>\n",
       "</table>\n",
       "</div>"
      ],
      "text/plain": [
       "          Repo Name    User Name  \\\n",
       "0        tensorflow   tensorflow   \n",
       "1      transformers  huggingface   \n",
       "2           pytorch      pytorch   \n",
       "3           netdata      netdata   \n",
       "4  ML-For-Beginners    microsoft   \n",
       "5  cs-video-courses  Developer-Y   \n",
       "6             keras   keras-team   \n",
       "\n",
       "                                    Repo Description  \\\n",
       "0  An Open Source Machine Learning Framework for ...   \n",
       "1  🤗 Transformers: State-of-the-art Machine Learn...   \n",
       "2  Tensors and Dynamic neural networks in Python ...   \n",
       "3  The open-source observability platform everyon...   \n",
       "4  12 weeks, 26 lessons, 52 quizzes, classic Mach...   \n",
       "5  List of Computer Science courses with video le...   \n",
       "6                           Deep Learning for humans   \n",
       "\n",
       "                                          Repo Url  Repo Stars  \\\n",
       "0         https://github.com/tensorflow/tensorflow      184000   \n",
       "1      https://github.com/huggingface/transformers      129000   \n",
       "2               https://github.com/pytorch/pytorch       80400   \n",
       "3               https://github.com/netdata/netdata       69600   \n",
       "4    https://github.com/microsoft/ML-For-Beginners       68300   \n",
       "5  https://github.com/Developer-Y/cs-video-courses       66000   \n",
       "6              https://github.com/keras-team/keras       61300   \n",
       "\n",
       "                                        Repo Profile  \n",
       "0  https://repository-images.githubusercontent.co...  \n",
       "1  https://repository-images.githubusercontent.co...  \n",
       "2  https://repository-images.githubusercontent.co...  \n",
       "3  https://repository-images.githubusercontent.co...  \n",
       "4  https://repository-images.githubusercontent.co...  \n",
       "5  https://repository-images.githubusercontent.co...  \n",
       "6  https://repository-images.githubusercontent.co...  "
      ]
     },
     "execution_count": 253,
     "metadata": {},
     "output_type": "execute_result"
    }
   ],
   "source": [
    "# converting repo details into a pandas DataFrame\n",
    "repo_info = pd.DataFrame.from_dict(repo_info_dict)\n",
    "repo_info"
   ]
  },
  {
   "cell_type": "code",
   "execution_count": 257,
   "metadata": {},
   "outputs": [],
   "source": [
    "# converting pandas DataFrame to csv\n",
    "repo_info.to_csv('Ml Topic Repo Info\\'s.csv', index=None)"
   ]
  },
  {
   "cell_type": "code",
   "execution_count": 258,
   "metadata": {},
   "outputs": [
    {
     "data": {
      "text/html": [
       "<div>\n",
       "<style scoped>\n",
       "    .dataframe tbody tr th:only-of-type {\n",
       "        vertical-align: middle;\n",
       "    }\n",
       "\n",
       "    .dataframe tbody tr th {\n",
       "        vertical-align: top;\n",
       "    }\n",
       "\n",
       "    .dataframe thead th {\n",
       "        text-align: right;\n",
       "    }\n",
       "</style>\n",
       "<table border=\"1\" class=\"dataframe\">\n",
       "  <thead>\n",
       "    <tr style=\"text-align: right;\">\n",
       "      <th></th>\n",
       "      <th>Repo Name</th>\n",
       "      <th>User Name</th>\n",
       "      <th>Repo Description</th>\n",
       "      <th>Repo Url</th>\n",
       "      <th>Repo Stars</th>\n",
       "      <th>Repo Profile</th>\n",
       "    </tr>\n",
       "  </thead>\n",
       "  <tbody>\n",
       "    <tr>\n",
       "      <th>0</th>\n",
       "      <td>tensorflow</td>\n",
       "      <td>tensorflow</td>\n",
       "      <td>An Open Source Machine Learning Framework for ...</td>\n",
       "      <td>https://github.com/tensorflow/tensorflow</td>\n",
       "      <td>184000</td>\n",
       "      <td>https://repository-images.githubusercontent.co...</td>\n",
       "    </tr>\n",
       "    <tr>\n",
       "      <th>1</th>\n",
       "      <td>transformers</td>\n",
       "      <td>huggingface</td>\n",
       "      <td>🤗 Transformers: State-of-the-art Machine Learn...</td>\n",
       "      <td>https://github.com/huggingface/transformers</td>\n",
       "      <td>129000</td>\n",
       "      <td>https://repository-images.githubusercontent.co...</td>\n",
       "    </tr>\n",
       "    <tr>\n",
       "      <th>2</th>\n",
       "      <td>pytorch</td>\n",
       "      <td>pytorch</td>\n",
       "      <td>Tensors and Dynamic neural networks in Python ...</td>\n",
       "      <td>https://github.com/pytorch/pytorch</td>\n",
       "      <td>80400</td>\n",
       "      <td>https://repository-images.githubusercontent.co...</td>\n",
       "    </tr>\n",
       "    <tr>\n",
       "      <th>3</th>\n",
       "      <td>netdata</td>\n",
       "      <td>netdata</td>\n",
       "      <td>The open-source observability platform everyon...</td>\n",
       "      <td>https://github.com/netdata/netdata</td>\n",
       "      <td>69600</td>\n",
       "      <td>https://repository-images.githubusercontent.co...</td>\n",
       "    </tr>\n",
       "    <tr>\n",
       "      <th>4</th>\n",
       "      <td>ML-For-Beginners</td>\n",
       "      <td>microsoft</td>\n",
       "      <td>12 weeks, 26 lessons, 52 quizzes, classic Mach...</td>\n",
       "      <td>https://github.com/microsoft/ML-For-Beginners</td>\n",
       "      <td>68300</td>\n",
       "      <td>https://repository-images.githubusercontent.co...</td>\n",
       "    </tr>\n",
       "  </tbody>\n",
       "</table>\n",
       "</div>"
      ],
      "text/plain": [
       "          Repo Name    User Name  \\\n",
       "0        tensorflow   tensorflow   \n",
       "1      transformers  huggingface   \n",
       "2           pytorch      pytorch   \n",
       "3           netdata      netdata   \n",
       "4  ML-For-Beginners    microsoft   \n",
       "\n",
       "                                    Repo Description  \\\n",
       "0  An Open Source Machine Learning Framework for ...   \n",
       "1  🤗 Transformers: State-of-the-art Machine Learn...   \n",
       "2  Tensors and Dynamic neural networks in Python ...   \n",
       "3  The open-source observability platform everyon...   \n",
       "4  12 weeks, 26 lessons, 52 quizzes, classic Mach...   \n",
       "\n",
       "                                        Repo Url  Repo Stars  \\\n",
       "0       https://github.com/tensorflow/tensorflow      184000   \n",
       "1    https://github.com/huggingface/transformers      129000   \n",
       "2             https://github.com/pytorch/pytorch       80400   \n",
       "3             https://github.com/netdata/netdata       69600   \n",
       "4  https://github.com/microsoft/ML-For-Beginners       68300   \n",
       "\n",
       "                                        Repo Profile  \n",
       "0  https://repository-images.githubusercontent.co...  \n",
       "1  https://repository-images.githubusercontent.co...  \n",
       "2  https://repository-images.githubusercontent.co...  \n",
       "3  https://repository-images.githubusercontent.co...  \n",
       "4  https://repository-images.githubusercontent.co...  "
      ]
     },
     "execution_count": 258,
     "metadata": {},
     "output_type": "execute_result"
    }
   ],
   "source": [
    "df = pd.read_csv('./Ml Topic Repo Info\\'s.csv')\n",
    "df.head()"
   ]
  }
 ],
 "metadata": {
  "kernelspec": {
   "display_name": "Python 3",
   "language": "python",
   "name": "python3"
  },
  "language_info": {
   "codemirror_mode": {
    "name": "ipython",
    "version": 3
   },
   "file_extension": ".py",
   "mimetype": "text/x-python",
   "name": "python",
   "nbconvert_exporter": "python",
   "pygments_lexer": "ipython3",
   "version": "3.12.4"
  }
 },
 "nbformat": 4,
 "nbformat_minor": 2
}
